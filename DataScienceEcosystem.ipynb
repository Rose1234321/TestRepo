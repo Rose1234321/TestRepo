{
 "cells": [
  {
   "cell_type": "markdown",
   "id": "60ef4f23-0ecd-4996-9183-f7b7e4d2cd91",
   "metadata": {},
   "source": [
    "# Data Science Tools and Ecosystem"
   ]
  },
  {
   "cell_type": "markdown",
   "id": "f7f19b6d-97d3-4994-aa5e-56f989bb888e",
   "metadata": {},
   "source": [
    "In this notebook, Data Science Tools and Ecosystems are summarised."
   ]
  },
  {
   "cell_type": "markdown",
   "id": "ffa84ce7-8021-4002-9e25-3cb246d40746",
   "metadata": {},
   "source": [
    "Some of the popular languages that Data Scientists use are:\n",
    "1. Python\n",
    "2. R\n",
    "3. SQL\n",
    "4. C/C++"
   ]
  },
  {
   "cell_type": "markdown",
   "id": "5fb85721-779e-4834-b3db-054d1f219fd7",
   "metadata": {},
   "source": [
    "Some of the commonly used libraries used by Data Scientists include:\n",
    "1. Pandas\n",
    "2. NumPy\n",
    "3. Matplotlib\n",
    "4. Seaborn\n",
    "5. Scikit-learn\n",
    "6. Keras\n",
    "7. TensorFlow\n",
    "8. ggplot2"
   ]
  },
  {
   "cell_type": "markdown",
   "id": "6a0b738d-4f72-4618-a1b8-5042265e6d42",
   "metadata": {},
   "source": [
    "| Data Science Tools|\n",
    "|-------------------|\n",
    "|Jupyter|\n",
    "| PyCharm |\n",
    "| RStudio |\n",
    "| Visual Studio |\n",
    "| Spyder |"
   ]
  },
  {
   "cell_type": "markdown",
   "id": "b470507e-65f3-4301-b55c-fdbffa06dffd",
   "metadata": {},
   "source": [
    "### Below are a few examples of evaluating arithmetic expressions"
   ]
  },
  {
   "cell_type": "code",
   "execution_count": 1,
   "id": "758aef35-65bd-49ed-854c-871ff309c7ee",
   "metadata": {},
   "outputs": [
    {
     "data": {
      "text/plain": [
       "17"
      ]
     },
     "execution_count": 1,
     "metadata": {},
     "output_type": "execute_result"
    }
   ],
   "source": [
    "#This is a simple arithmetic expression to multiply then add integers\n",
    "(3*4)+5"
   ]
  },
  {
   "cell_type": "code",
   "execution_count": 2,
   "id": "74a80827-48fc-457c-bc56-b7299afae69e",
   "metadata": {},
   "outputs": [
    {
     "data": {
      "text/plain": [
       "3.3333333333333335"
      ]
     },
     "execution_count": 2,
     "metadata": {},
     "output_type": "execute_result"
    }
   ],
   "source": [
    "#This will convert 200 minutes to hours by dividing by 60\n",
    "200/60"
   ]
  },
  {
   "cell_type": "markdown",
   "id": "27d09f76-d27e-4772-99b5-c118ad6f056a",
   "metadata": {},
   "source": [
    "**Objectives:**\n",
    "* List popular languages for data scientists\n",
    "* List commonly used libraries by data scientists\n",
    "* List open-source IDEs used in data science"
   ]
  },
  {
   "cell_type": "markdown",
   "id": "53a3e3db-8887-4c7f-84d2-abc63a430f08",
   "metadata": {},
   "source": [
    "## Author\n",
    "Rose"
   ]
  }
 ],
 "metadata": {
  "kernelspec": {
   "display_name": "Python 3 (ipykernel)",
   "language": "python",
   "name": "python3"
  },
  "language_info": {
   "codemirror_mode": {
    "name": "ipython",
    "version": 3
   },
   "file_extension": ".py",
   "mimetype": "text/x-python",
   "name": "python",
   "nbconvert_exporter": "python",
   "pygments_lexer": "ipython3",
   "version": "3.9.21"
  }
 },
 "nbformat": 4,
 "nbformat_minor": 5
}
